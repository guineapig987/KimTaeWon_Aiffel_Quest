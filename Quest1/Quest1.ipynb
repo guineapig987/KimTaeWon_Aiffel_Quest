{
  "nbformat": 4,
  "nbformat_minor": 0,
  "metadata": {
    "colab": {
      "provenance": [],
      "include_colab_link": true
    },
    "kernelspec": {
      "name": "python3",
      "display_name": "Python 3"
    },
    "language_info": {
      "name": "python"
    }
  },
  "cells": [
    {
      "cell_type": "markdown",
      "metadata": {
        "id": "view-in-github",
        "colab_type": "text"
      },
      "source": [
        "<a href=\"https://colab.research.google.com/github/guineapig987/first-repository/blob/master/Untitled5.ipynb\" target=\"_parent\"><img src=\"https://colab.research.google.com/assets/colab-badge.svg\" alt=\"Open In Colab\"/></a>"
      ]
    },
    {
      "cell_type": "code",
      "execution_count": null,
      "metadata": {
        "colab": {
          "base_uri": "https://localhost:8080/"
        },
        "id": "tTc9ewv0IUUF",
        "outputId": "efdf11ec-03b2-43b8-fb45-b0f6fd6575e2"
      },
      "outputs": [
        {
          "output_type": "stream",
          "name": "stdout",
          "text": [
            "Mounted at /content/drive\n"
          ]
        }
      ],
      "source": [
        "from google.colab import drive\n",
        "drive.mount('/content/drive')"
      ]
    },
    {
      "cell_type": "code",
      "source": [
        "cd /content/Commit_Test_Folder"
      ],
      "metadata": {
        "colab": {
          "base_uri": "https://localhost:8080/"
        },
        "id": "7JFmFJAYKMvc",
        "outputId": "64e38254-4579-4f5d-b414-0be16faa1511"
      },
      "execution_count": null,
      "outputs": [
        {
          "output_type": "stream",
          "name": "stdout",
          "text": [
            "/content/Commit_Test_Folder\n"
          ]
        }
      ]
    },
    {
      "cell_type": "code",
      "source": [
        "\n",
        "# 단어를 입력받을 수 있게 한다.\n",
        "# 입력된 단어를 뒤집어서 출력할 수 있게 한다.\n",
        "# 입력된 단어가 회문이 맞는지 확인하여 출력할 수 있게 한다.\n",
        "# 자료형, 제어문, 함수를 활용한다.\n",
        "\n",
        "word = [] #빈 리스트 생성\n",
        "word = input('단어 입력 : ')  #단어입력\n",
        "\n",
        "reversed_word = word[::-1]   # 리스트 역순\n",
        "if (word == reversed_word): # 원본, 역순 비교\n",
        "  print('뒤집힌 단어는 : ', reversed_word)\n",
        "else:                        # 뒤집힌 단어 같지않다면\n",
        "  print('뒤집힌 단어가 일치하지 않습니다.')"
      ],
      "metadata": {
        "id": "qh82LTxILQtB",
        "colab": {
          "base_uri": "https://localhost:8080/"
        },
        "outputId": "818e1b22-93a1-4b87-fab8-a8e64534ce27"
      },
      "execution_count": 60,
      "outputs": [
        {
          "output_type": "stream",
          "name": "stdout",
          "text": [
            "단어 입력 : 우성우\n",
            "뒤집힌 단어는 :  우성우\n"
          ]
        }
      ]
    },
    {
      "cell_type": "code",
      "source": [
        "a = [1,2,3,4,5,6]\n",
        "b = []\n",
        "for i in range(len(a), 0, -1):\n",
        "  b.append(a[i-1])\n",
        "\n",
        "print(b)\n",
        "\n",
        "\n"
      ],
      "metadata": {
        "colab": {
          "base_uri": "https://localhost:8080/"
        },
        "id": "6O_i-tQ3Vy1C",
        "outputId": "493f149c-618b-41ad-dc83-cd4be24c75fc"
      },
      "execution_count": 59,
      "outputs": [
        {
          "output_type": "stream",
          "name": "stdout",
          "text": [
            "[6, 5, 4, 3, 2, 1]\n"
          ]
        }
      ]
    }
  ]
}
