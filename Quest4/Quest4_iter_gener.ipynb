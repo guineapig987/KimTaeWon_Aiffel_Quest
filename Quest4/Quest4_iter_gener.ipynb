{
  "nbformat": 4,
  "nbformat_minor": 0,
  "metadata": {
    "colab": {
      "provenance": [],
      "authorship_tag": "ABX9TyPOJRPunq1NCqPFGPZVeww8",
      "include_colab_link": true
    },
    "kernelspec": {
      "name": "python3",
      "display_name": "Python 3"
    },
    "language_info": {
      "name": "python"
    }
  },
  "cells": [
    {
      "cell_type": "markdown",
      "metadata": {
        "id": "view-in-github",
        "colab_type": "text"
      },
      "source": [
        "<a href=\"https://colab.research.google.com/github/guineapig987/Python_Quest_KimTaeWon/blob/master/Quest4_iter_gener.ipynb\" target=\"_parent\"><img src=\"https://colab.research.google.com/assets/colab-badge.svg\" alt=\"Open In Colab\"/></a>"
      ]
    },
    {
      "cell_type": "code",
      "execution_count": 1,
      "metadata": {
        "colab": {
          "base_uri": "https://localhost:8080/"
        },
        "id": "veap0_0u7EQ7",
        "outputId": "38568872-35e4-4bb3-87f6-5cac630f215b"
      },
      "outputs": [
        {
          "output_type": "stream",
          "name": "stdout",
          "text": [
            "Using Comprehension:\n",
            "Nemo is swimming at 3 m/s \n",
            "Dory is swimming at 5 m/s \n",
            "Marlin is swimming at 7 m/s \n",
            "Bubbles is swimming at 2 m/s \n",
            "Gill is swimming at 4 m/s \n",
            "\n",
            "Using Iterator:\n",
            "Nemo is swimming at 3 m/s\n",
            "Dory is swimming at 5 m/s\n",
            "Marlin is swimming at 7 m/s\n",
            "Bubbles is swimming at 2 m/s\n",
            "Gill is swimming at 4 m/s\n"
          ]
        }
      ],
      "source": [
        "\n",
        "class Fish:\n",
        "  def __init__(self, name, speed):\n",
        "        self.name = name\n",
        "        self.speed = speed\n",
        "\n",
        "fish_list = [ Fish(\"Nemo\", 3), Fish(\"Dory\", 5), Fish(\"Marlin\", 7), Fish(\"Bubbles\", 2), Fish(\"Gill\", 4) ]\n",
        "\n",
        "\n",
        "# 이터레이터로 물고기 속성 출력\\\n",
        "def show_fish_movement_comprehension(a):\n",
        "    fish_property = [(fish.name, fish.speed) for fish in fish_list] # 리스트 컴프리헨션으로 물고기 속성 추출\n",
        "    for fish in fish_property:\n",
        "        print(f\"{fish[0]} is swimming at {fish[1]} m/s \")\n",
        "        # t.sleep(fish[1])\n",
        "\n",
        "# 제너레이터로 물고기 속성 출력\n",
        "def show_fish_movement_generate(fish_list):\n",
        " \n",
        "  # 제너레이터 함수 정의\n",
        "  def fish_generator(fish_list):\n",
        "    for fish in fish_list:\n",
        "      yield print(f\"{fish.name} is swimming at {fish.speed} m/s\")\n",
        "      # t.sleep(fish.speed)\n",
        "  \n",
        "  fish_gen = fish_generator(fish_list) # 제너레이터 객체 저장\n",
        "  \n",
        "  for i in range(len(fish_list)): # 제너레이터 호출\n",
        "    next(fish_gen)\n",
        "    \n",
        "    \n",
        "print(\"Using Comprehension:\")\n",
        "show_fish_movement_comprehension(fish_list)\n",
        "\n",
        "print(\"\\nUsing Iterator:\")\n",
        "show_fish_movement_generate(fish_list)"
      ]
    }
  ]
}
